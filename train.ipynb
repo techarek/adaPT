{
 "cells": [
  {
   "cell_type": "code",
   "execution_count": 1,
   "metadata": {
    "colab": {
     "base_uri": "https://localhost:8080/"
    },
    "executionInfo": {
     "elapsed": 9,
     "status": "ok",
     "timestamp": 1651084821693,
     "user": {
      "displayName": "Binwei Yan",
      "userId": "06349322039835195578"
     },
     "user_tz": 240
    },
    "id": "xCTHcKcshB51",
    "outputId": "8c25cbeb-3794-416b-9769-cc70d3c30286"
   },
   "outputs": [
    {
     "name": "stdout",
     "output_type": "stream",
     "text": [
      "gdrive\tsample_data\n"
     ]
    }
   ],
   "source": [
    "!ls"
   ]
  },
  {
   "cell_type": "code",
   "execution_count": 2,
   "metadata": {
    "colab": {
     "base_uri": "https://localhost:8080/"
    },
    "executionInfo": {
     "elapsed": 2144,
     "status": "ok",
     "timestamp": 1651084823833,
     "user": {
      "displayName": "Binwei Yan",
      "userId": "06349322039835195578"
     },
     "user_tz": 240
    },
    "id": "vsPFzkUX_gyU",
    "outputId": "37d2d0ab-f7ce-4bf4-d95c-75df521a4e0e"
   },
   "outputs": [
    {
     "name": "stdout",
     "output_type": "stream",
     "text": [
      "Drive already mounted at /content/gdrive; to attempt to forcibly remount, call drive.mount(\"/content/gdrive\", force_remount=True).\n"
     ]
    }
   ],
   "source": [
    "from google.colab import drive\n",
    "drive.mount('/content/gdrive')"
   ]
  },
  {
   "cell_type": "code",
   "execution_count": 3,
   "metadata": {
    "executionInfo": {
     "elapsed": 5,
     "status": "ok",
     "timestamp": 1651084823834,
     "user": {
      "displayName": "Binwei Yan",
      "userId": "06349322039835195578"
     },
     "user_tz": 240
    },
    "id": "dCSuakxI-YJH"
   },
   "outputs": [],
   "source": [
    "import os\n",
    "import sys\n",
    "sys.path.append('adaPT-main')\n",
    "os.chdir(\"gdrive/MyDrive/\")\n",
    "os.chdir('Colab Notebooks')\n",
    "os.chdir('adaPT')"
   ]
  },
  {
   "cell_type": "markdown",
   "metadata": {
    "id": "2976x4zqif_J"
   },
   "source": []
  },
  {
   "cell_type": "markdown",
   "metadata": {
    "id": "N-4YUA8Dg8mL"
   },
   "source": [
    "# New Section"
   ]
  },
  {
   "cell_type": "code",
   "execution_count": 4,
   "metadata": {
    "colab": {
     "base_uri": "https://localhost:8080/"
    },
    "executionInfo": {
     "elapsed": 6152,
     "status": "ok",
     "timestamp": 1651084829982,
     "user": {
      "displayName": "Binwei Yan",
      "userId": "06349322039835195578"
     },
     "user_tz": 240
    },
    "id": "CjUWFCIHVtzl",
    "outputId": "890dcdac-ec12-4df9-891a-feddf2dd3f19"
   },
   "outputs": [
    {
     "name": "stdout",
     "output_type": "stream",
     "text": [
      "Requirement already satisfied: stable_baselines3 in /usr/local/lib/python3.7/dist-packages (1.5.0)\n",
      "Requirement already satisfied: matplotlib in /usr/local/lib/python3.7/dist-packages (from stable_baselines3) (3.2.2)\n",
      "Requirement already satisfied: pandas in /usr/local/lib/python3.7/dist-packages (from stable_baselines3) (1.3.5)\n",
      "Requirement already satisfied: torch>=1.8.1 in /usr/local/lib/python3.7/dist-packages (from stable_baselines3) (1.11.0+cu113)\n",
      "Requirement already satisfied: numpy in /usr/local/lib/python3.7/dist-packages (from stable_baselines3) (1.21.6)\n",
      "Requirement already satisfied: gym==0.21 in /usr/local/lib/python3.7/dist-packages (from stable_baselines3) (0.21.0)\n",
      "Requirement already satisfied: cloudpickle in /usr/local/lib/python3.7/dist-packages (from stable_baselines3) (1.3.0)\n",
      "Requirement already satisfied: importlib-metadata>=4.8.1 in /usr/local/lib/python3.7/dist-packages (from gym==0.21->stable_baselines3) (4.11.3)\n",
      "Requirement already satisfied: typing-extensions>=3.6.4 in /usr/local/lib/python3.7/dist-packages (from importlib-metadata>=4.8.1->gym==0.21->stable_baselines3) (4.2.0)\n",
      "Requirement already satisfied: zipp>=0.5 in /usr/local/lib/python3.7/dist-packages (from importlib-metadata>=4.8.1->gym==0.21->stable_baselines3) (3.8.0)\n",
      "Requirement already satisfied: python-dateutil>=2.1 in /usr/local/lib/python3.7/dist-packages (from matplotlib->stable_baselines3) (2.8.2)\n",
      "Requirement already satisfied: cycler>=0.10 in /usr/local/lib/python3.7/dist-packages (from matplotlib->stable_baselines3) (0.11.0)\n",
      "Requirement already satisfied: kiwisolver>=1.0.1 in /usr/local/lib/python3.7/dist-packages (from matplotlib->stable_baselines3) (1.4.2)\n",
      "Requirement already satisfied: pyparsing!=2.0.4,!=2.1.2,!=2.1.6,>=2.0.1 in /usr/local/lib/python3.7/dist-packages (from matplotlib->stable_baselines3) (3.0.8)\n",
      "Requirement already satisfied: six>=1.5 in /usr/local/lib/python3.7/dist-packages (from python-dateutil>=2.1->matplotlib->stable_baselines3) (1.15.0)\n",
      "Requirement already satisfied: pytz>=2017.3 in /usr/local/lib/python3.7/dist-packages (from pandas->stable_baselines3) (2022.1)\n",
      "Requirement already satisfied: transformers in /usr/local/lib/python3.7/dist-packages (4.18.0)\n",
      "Requirement already satisfied: importlib-metadata in /usr/local/lib/python3.7/dist-packages (from transformers) (4.11.3)\n",
      "Requirement already satisfied: filelock in /usr/local/lib/python3.7/dist-packages (from transformers) (3.6.0)\n",
      "Requirement already satisfied: requests in /usr/local/lib/python3.7/dist-packages (from transformers) (2.23.0)\n",
      "Requirement already satisfied: tokenizers!=0.11.3,<0.13,>=0.11.1 in /usr/local/lib/python3.7/dist-packages (from transformers) (0.12.1)\n",
      "Requirement already satisfied: tqdm>=4.27 in /usr/local/lib/python3.7/dist-packages (from transformers) (4.64.0)\n",
      "Requirement already satisfied: sacremoses in /usr/local/lib/python3.7/dist-packages (from transformers) (0.0.49)\n",
      "Requirement already satisfied: regex!=2019.12.17 in /usr/local/lib/python3.7/dist-packages (from transformers) (2019.12.20)\n",
      "Requirement already satisfied: huggingface-hub<1.0,>=0.1.0 in /usr/local/lib/python3.7/dist-packages (from transformers) (0.5.1)\n",
      "Requirement already satisfied: numpy>=1.17 in /usr/local/lib/python3.7/dist-packages (from transformers) (1.21.6)\n",
      "Requirement already satisfied: packaging>=20.0 in /usr/local/lib/python3.7/dist-packages (from transformers) (21.3)\n",
      "Requirement already satisfied: pyyaml>=5.1 in /usr/local/lib/python3.7/dist-packages (from transformers) (6.0)\n",
      "Requirement already satisfied: typing-extensions>=3.7.4.3 in /usr/local/lib/python3.7/dist-packages (from huggingface-hub<1.0,>=0.1.0->transformers) (4.2.0)\n",
      "Requirement already satisfied: pyparsing!=3.0.5,>=2.0.2 in /usr/local/lib/python3.7/dist-packages (from packaging>=20.0->transformers) (3.0.8)\n",
      "Requirement already satisfied: zipp>=0.5 in /usr/local/lib/python3.7/dist-packages (from importlib-metadata->transformers) (3.8.0)\n",
      "Requirement already satisfied: chardet<4,>=3.0.2 in /usr/local/lib/python3.7/dist-packages (from requests->transformers) (3.0.4)\n",
      "Requirement already satisfied: urllib3!=1.25.0,!=1.25.1,<1.26,>=1.21.1 in /usr/local/lib/python3.7/dist-packages (from requests->transformers) (1.24.3)\n",
      "Requirement already satisfied: certifi>=2017.4.17 in /usr/local/lib/python3.7/dist-packages (from requests->transformers) (2021.10.8)\n",
      "Requirement already satisfied: idna<3,>=2.5 in /usr/local/lib/python3.7/dist-packages (from requests->transformers) (2.10)\n",
      "Requirement already satisfied: joblib in /usr/local/lib/python3.7/dist-packages (from sacremoses->transformers) (1.1.0)\n",
      "Requirement already satisfied: six in /usr/local/lib/python3.7/dist-packages (from sacremoses->transformers) (1.15.0)\n",
      "Requirement already satisfied: click in /usr/local/lib/python3.7/dist-packages (from sacremoses->transformers) (7.1.2)\n"
     ]
    }
   ],
   "source": [
    "!pip install stable_baselines3\n",
    "!pip install transformers"
   ]
  },
  {
   "cell_type": "code",
   "execution_count": 190,
   "metadata": {
    "executionInfo": {
     "elapsed": 3009,
     "status": "ok",
     "timestamp": 1651084832987,
     "user": {
      "displayName": "Binwei Yan",
      "userId": "06349322039835195578"
     },
     "user_tz": 240
    },
    "id": "Arq2qhqFFqz5"
   },
   "outputs": [],
   "source": [
    "import collections\n",
    "import copy\n",
    "import warnings\n",
    "from abc import ABC, abstractmethod\n",
    "from functools import partial\n",
    "from typing import Any, Dict, List, Optional, Tuple, Type, Union\n",
    "\n",
    "import gym\n",
    "import numpy as np\n",
    "import torch as th\n",
    "from torch import nn\n",
    "\n",
    "from stable_baselines3.common.distributions import (\n",
    "    BernoulliDistribution,\n",
    "    CategoricalDistribution,\n",
    "    DiagGaussianDistribution,\n",
    "    Distribution,\n",
    "    MultiCategoricalDistribution,\n",
    "    StateDependentNoiseDistribution,\n",
    "    make_proba_distribution,\n",
    ")\n",
    "from stable_baselines3.common.preprocessing import get_action_dim, is_image_space, maybe_transpose, preprocess_obs\n",
    "from stable_baselines3.common.torch_layers import (\n",
    "    BaseFeaturesExtractor,\n",
    "    CombinedExtractor,\n",
    "    FlattenExtractor,\n",
    "    MlpExtractor,\n",
    "    NatureCNN,\n",
    "    create_mlp,\n",
    ")\n",
    "from stable_baselines3.common.type_aliases import Schedule\n",
    "from stable_baselines3.common.utils import get_device, is_vectorized_observation, obs_as_tensor\n",
    "\n",
    "class BaseModel(nn.Module, ABC):\n",
    "    \"\"\"\n",
    "    The base model object: makes predictions in response to observations.\n",
    "\n",
    "    In the case of policies, the prediction is an action. In the case of critics, it is the\n",
    "    estimated value of the observation.\n",
    "\n",
    "    :param observation_space: The observation space of the environment\n",
    "    :param action_space: The action space of the environment\n",
    "    :param features_extractor_class: Features extractor to use.\n",
    "    :param features_extractor_kwargs: Keyword arguments\n",
    "        to pass to the features extractor.\n",
    "    :param features_extractor: Network to extract features\n",
    "        (a CNN when using images, a nn.Flatten() layer otherwise)\n",
    "    :param normalize_images: Whether to normalize images or not,\n",
    "         dividing by 255.0 (True by default)\n",
    "    :param optimizer_class: The optimizer to use,\n",
    "        ``th.optim.Adam`` by default\n",
    "    :param optimizer_kwargs: Additional keyword arguments,\n",
    "        excluding the learning rate, to pass to the optimizer\n",
    "    \"\"\"\n",
    "\n",
    "    def __init__(\n",
    "        self,\n",
    "        observation_space: gym.spaces.Space,\n",
    "        action_space: gym.spaces.Space,\n",
    "        features_extractor_class: Type[BaseFeaturesExtractor] = FlattenExtractor,\n",
    "        features_extractor_kwargs: Optional[Dict[str, Any]] = None,\n",
    "        features_extractor: Optional[nn.Module] = None,\n",
    "        normalize_images: bool = True,\n",
    "        optimizer_class: Type[th.optim.Optimizer] = th.optim.Adam,\n",
    "        optimizer_kwargs: Optional[Dict[str, Any]] = None,\n",
    "    ):\n",
    "        super().__init__()\n",
    "\n",
    "        if optimizer_kwargs is None:\n",
    "            optimizer_kwargs = {}\n",
    "\n",
    "        if features_extractor_kwargs is None:\n",
    "            features_extractor_kwargs = {}\n",
    "\n",
    "        self.observation_space = observation_space\n",
    "        self.action_space = action_space\n",
    "        self.features_extractor = features_extractor\n",
    "        self.normalize_images = normalize_images\n",
    "\n",
    "        self.optimizer_class = optimizer_class\n",
    "        self.optimizer_kwargs = optimizer_kwargs\n",
    "        self.optimizer = None  # type: Optional[th.optim.Optimizer]\n",
    "\n",
    "        self.features_extractor_class = features_extractor_class\n",
    "        self.features_extractor_kwargs = features_extractor_kwargs\n",
    "    @abstractmethod\n",
    "    def forward(self, *args, **kwargs):\n",
    "        pass\n",
    "\n",
    "    def _update_features_extractor(\n",
    "        self,\n",
    "        net_kwargs: Dict[str, Any],\n",
    "        features_extractor: Optional[BaseFeaturesExtractor] = None,\n",
    "    ) -> Dict[str, Any]:\n",
    "        \"\"\"\n",
    "        Update the network keyword arguments and create a new features extractor object if needed.\n",
    "        If a ``features_extractor`` object is passed, then it will be shared.\n",
    "\n",
    "        :param net_kwargs: the base network keyword arguments, without the ones\n",
    "            related to features extractor\n",
    "        :param features_extractor: a features extractor object.\n",
    "            If None, a new object will be created.\n",
    "        :return: The updated keyword arguments\n",
    "        \"\"\"\n",
    "        net_kwargs = net_kwargs.copy()\n",
    "        if features_extractor is None:\n",
    "            # The features extractor is not shared, create a new one\n",
    "            features_extractor = self.make_features_extractor()\n",
    "        net_kwargs.update(dict(features_extractor=features_extractor, features_dim=features_extractor.features_dim))\n",
    "        return net_kwargs\n",
    "\n",
    "    def make_features_extractor(self) -> BaseFeaturesExtractor:\n",
    "        \"\"\"Helper method to create a features extractor.\"\"\"\n",
    "        return self.features_extractor_class(self.observation_space, **self.features_extractor_kwargs)\n",
    "\n",
    "    def extract_features(self, obs: th.Tensor) -> th.Tensor:\n",
    "        \"\"\"\n",
    "        Preprocess the observation if needed and extract features.\n",
    "\n",
    "        :param obs:\n",
    "        :return:\n",
    "        \"\"\"\n",
    "        assert self.features_extractor is not None, \"No features extractor was set\"\n",
    "        preprocessed_obs = preprocess_obs(obs, self.observation_space, normalize_images=self.normalize_images)\n",
    "        return self.features_extractor(preprocessed_obs)\n",
    "\n",
    "    def _get_constructor_parameters(self) -> Dict[str, Any]:\n",
    "        \"\"\"\n",
    "        Get data that need to be saved in order to re-create the model when loading it from disk.\n",
    "\n",
    "        :return: The dictionary to pass to the as kwargs constructor when reconstruction this model.\n",
    "        \"\"\"\n",
    "        return dict(\n",
    "            observation_space=self.observation_space,\n",
    "            action_space=self.action_space,\n",
    "            # Passed to the constructor by child class\n",
    "            # squash_output=self.squash_output,\n",
    "            # features_extractor=self.features_extractor\n",
    "            normalize_images=self.normalize_images,\n",
    "        )\n",
    "\n",
    "    @property\n",
    "    def device(self) -> th.device:\n",
    "        \"\"\"Infer which device this policy lives on by inspecting its parameters.\n",
    "        If it has no parameters, the 'cpu' device is used as a fallback.\n",
    "\n",
    "        :return:\"\"\"\n",
    "        for param in self.parameters():\n",
    "            return param.device\n",
    "        return get_device(\"cpu\")\n",
    "\n",
    "    def save(self, path: str) -> None:\n",
    "        \"\"\"\n",
    "        Save model to a given location.\n",
    "\n",
    "        :param path:\n",
    "        \"\"\"\n",
    "        th.save({\"state_dict\": self.state_dict(), \"data\": self._get_constructor_parameters()}, path)\n",
    "\n",
    "    @classmethod\n",
    "    def load(cls, path: str, device: Union[th.device, str] = \"auto\") -> \"BaseModel\":\n",
    "        \"\"\"\n",
    "        Load model from path.\n",
    "\n",
    "        :param path:\n",
    "        :param device: Device on which the policy should be loaded.\n",
    "        :return:\n",
    "        \"\"\"\n",
    "        device = get_device(device)\n",
    "        saved_variables = th.load(path, map_location=device)\n",
    "\n",
    "        # Allow to load policy saved with older version of SB3\n",
    "        if \"sde_net_arch\" in saved_variables[\"data\"]:\n",
    "            warnings.warn(\n",
    "                \"sde_net_arch is deprecated, please downgrade to SB3 v1.2.0 if you need such parameter.\",\n",
    "                DeprecationWarning,\n",
    "            )\n",
    "            del saved_variables[\"data\"][\"sde_net_arch\"]\n",
    "\n",
    "        # Create policy object\n",
    "        model = cls(**saved_variables[\"data\"])  # pytype: disable=not-instantiable\n",
    "        # Load weights\n",
    "        model.load_state_dict(saved_variables[\"state_dict\"])\n",
    "        model.to(device)\n",
    "        return model\n",
    "\n",
    "    def load_from_vector(self, vector: np.ndarray) -> None:\n",
    "        \"\"\"\n",
    "        Load parameters from a 1D vector.\n",
    "\n",
    "        :param vector:\n",
    "        \"\"\"\n",
    "        th.nn.utils.vector_to_parameters(th.FloatTensor(vector).to(self.device), self.parameters())\n",
    "\n",
    "    def parameters_to_vector(self) -> np.ndarray:\n",
    "        \"\"\"\n",
    "        Convert the parameters to a 1D vector.\n",
    "\n",
    "        :return:\n",
    "        \"\"\"\n",
    "        return th.nn.utils.parameters_to_vector(self.parameters()).detach().cpu().numpy()\n",
    "\n",
    "    def set_training_mode(self, mode: bool) -> None:\n",
    "        \"\"\"\n",
    "        Put the policy in either training or evaluation mode.\n",
    "\n",
    "        This affects certain modules, such as batch normalisation and dropout.\n",
    "\n",
    "        :param mode: if true, set to training mode, else set to evaluation mode\n",
    "        \"\"\"\n",
    "        self.train(mode)\n",
    "\n",
    "    def obs_to_tensor(self, observation: Union[np.ndarray, Dict[str, np.ndarray]]) -> Tuple[th.Tensor, bool]:\n",
    "        \"\"\"\n",
    "        Convert an input observation to a PyTorch tensor that can be fed to a model.\n",
    "        Includes sugar-coating to handle different observations (e.g. normalizing images).\n",
    "\n",
    "        :param observation: the input observation\n",
    "        :return: The observation as PyTorch tensor\n",
    "            and whether the observation is vectorized or not\n",
    "        \"\"\"\n",
    "        vectorized_env = False\n",
    "        if isinstance(observation, dict):\n",
    "            # need to copy the dict as the dict in VecFrameStack will become a torch tensor\n",
    "            observation = copy.deepcopy(observation)\n",
    "            for key, obs in observation.items():\n",
    "                obs_space = self.observation_space.spaces[key]\n",
    "                if is_image_space(obs_space):\n",
    "                    obs_ = maybe_transpose(obs, obs_space)\n",
    "                else:\n",
    "                    obs_ = np.array(obs)\n",
    "                vectorized_env = vectorized_env or is_vectorized_observation(obs_, obs_space)\n",
    "                # Add batch dimension if needed\n",
    "                observation[key] = obs_.reshape((-1,) + self.observation_space[key].shape)\n",
    "\n",
    "        elif is_image_space(self.observation_space):\n",
    "            # Handle the different cases for images\n",
    "            # as PyTorch use channel first format\n",
    "            observation = maybe_transpose(observation, self.observation_space)\n",
    "\n",
    "        else:\n",
    "            observation = np.array(observation)\n",
    "\n",
    "        if not isinstance(observation, dict):\n",
    "            # Dict obs need to be handled separately\n",
    "            vectorized_env = is_vectorized_observation(observation, self.observation_space)\n",
    "            # Add batch dimension if needed\n",
    "            observation = observation.reshape((-1,) + self.observation_space.shape)\n",
    "\n",
    "        observation = obs_as_tensor(observation, self.device)\n",
    "        return observation, vectorized_env\n",
    "\n",
    "\n",
    "class BasePolicy(BaseModel):\n",
    "    \"\"\"The base policy object.\n",
    "\n",
    "    Parameters are mostly the same as `BaseModel`; additions are documented below.\n",
    "\n",
    "    :param args: positional arguments passed through to `BaseModel`.\n",
    "    :param kwargs: keyword arguments passed through to `BaseModel`.\n",
    "    :param squash_output: For continuous actions, whether the output is squashed\n",
    "        or not using a ``tanh()`` function.\n",
    "    \"\"\"\n",
    "\n",
    "    def __init__(self, *args, squash_output: bool = False, **kwargs):\n",
    "        super().__init__(*args, **kwargs)\n",
    "        self._squash_output = squash_output\n",
    "    @staticmethod\n",
    "    def _dummy_schedule(progress_remaining: float) -> float:\n",
    "        \"\"\"(float) Useful for pickling policy.\"\"\"\n",
    "        del progress_remaining\n",
    "        return 0.0\n",
    "\n",
    "    @property\n",
    "    def squash_output(self) -> bool:\n",
    "        \"\"\"(bool) Getter for squash_output.\"\"\"\n",
    "        return self._squash_output\n",
    "\n",
    "    @staticmethod\n",
    "    def init_weights(module: nn.Module, gain: float = 1) -> None:\n",
    "        \"\"\"\n",
    "        Orthogonal initialization (used in PPO and A2C)\n",
    "        \"\"\"\n",
    "        if isinstance(module, (nn.Linear, nn.Conv2d)):\n",
    "            nn.init.orthogonal_(module.weight, gain=gain)\n",
    "            if module.bias is not None:\n",
    "                module.bias.data.fill_(0.0)\n",
    "\n",
    "    @abstractmethod\n",
    "    def _predict(self, observation: th.Tensor, deterministic: bool = False) -> th.Tensor:\n",
    "        \"\"\"\n",
    "        Get the action according to the policy for a given observation.\n",
    "\n",
    "        By default provides a dummy implementation -- not all BasePolicy classes\n",
    "        implement this, e.g. if they are a Critic in an Actor-Critic method.\n",
    "\n",
    "        :param observation:\n",
    "        :param deterministic: Whether to use stochastic or deterministic actions\n",
    "        :return: Taken action according to the policy\n",
    "        \"\"\"\n",
    "\n",
    "    def predict(\n",
    "        self,\n",
    "        observation: Union[np.ndarray, Dict[str, np.ndarray]],\n",
    "        state: Optional[Tuple[np.ndarray, ...]] = None,\n",
    "        episode_start: Optional[np.ndarray] = None,\n",
    "        deterministic: bool = False,\n",
    "    ) -> Tuple[np.ndarray, Optional[Tuple[np.ndarray, ...]]]:\n",
    "        \"\"\"\n",
    "        Get the policy action from an observation (and optional hidden state).\n",
    "        Includes sugar-coating to handle different observations (e.g. normalizing images).\n",
    "\n",
    "        :param observation: the input observation\n",
    "        :param state: The last hidden states (can be None, used in recurrent policies)\n",
    "        :param episode_start: The last masks (can be None, used in recurrent policies)\n",
    "            this correspond to beginning of episodes,\n",
    "            where the hidden states of the RNN must be reset.\n",
    "        :param deterministic: Whether or not to return deterministic actions.\n",
    "        :return: the model's action and the next hidden state\n",
    "            (used in recurrent policies)\n",
    "        \"\"\"\n",
    "        # TODO (GH/1): add support for RNN policies\n",
    "        # if state is None:\n",
    "        #     state = self.initial_state\n",
    "        # if episode_start is None:\n",
    "        #     episode_start = [False for _ in range(self.n_envs)]\n",
    "        # Switch to eval mode (this affects batch norm / dropout)\n",
    "        self.set_training_mode(False)\n",
    "\n",
    "        observation, vectorized_env = self.obs_to_tensor(observation)\n",
    "\n",
    "        with th.no_grad():\n",
    "            actions = self._predict(observation, deterministic=deterministic)\n",
    "        # Convert to numpy\n",
    "        actions = actions.cpu().numpy()\n",
    "\n",
    "        if isinstance(self.action_space, gym.spaces.Box):\n",
    "            if self.squash_output:\n",
    "                # Rescale to proper domain when using squashing\n",
    "                actions = self.unscale_action(actions)\n",
    "            else:\n",
    "                # Actions could be on arbitrary scale, so clip the actions to avoid\n",
    "                # out of bound error (e.g. if sampling from a Gaussian distribution)\n",
    "                actions = np.clip(actions, self.action_space.low, self.action_space.high)\n",
    "\n",
    "        # Remove batch dimension if needed\n",
    "        if not vectorized_env:\n",
    "            actions = actions[0]\n",
    "\n",
    "        return actions, state\n",
    "\n",
    "    def scale_action(self, action: np.ndarray) -> np.ndarray:\n",
    "        \"\"\"\n",
    "        Rescale the action from [low, high] to [-1, 1]\n",
    "        (no need for symmetric action space)\n",
    "\n",
    "        :param action: Action to scale\n",
    "        :return: Scaled action\n",
    "        \"\"\"\n",
    "        low, high = self.action_space.low, self.action_space.high\n",
    "        return 2.0 * ((action - low) / (high - low)) - 1.0\n",
    "\n",
    "    def unscale_action(self, scaled_action: np.ndarray) -> np.ndarray:\n",
    "        \"\"\"\n",
    "        Rescale the action from [-1, 1] to [low, high]\n",
    "        (no need for symmetric action space)\n",
    "\n",
    "        :param scaled_action: Action to un-scale\n",
    "        \"\"\"\n",
    "        low, high = self.action_space.low, self.action_space.high\n",
    "        return low + (0.5 * (scaled_action + 1.0) * (high - low))\n",
    "\n",
    "class ActorCriticPolicy(BasePolicy):\n",
    "    \"\"\"\n",
    "    Policy class for actor-critic algorithms (has both policy and value prediction).\n",
    "    Used by A2C, PPO and the likes.\n",
    "\n",
    "    :param observation_space: Observation space\n",
    "    :param action_space: Action space\n",
    "    :param lr_schedule: Learning rate schedule (could be constant)\n",
    "    :param net_arch: The specification of the policy and value networks.\n",
    "    :param activation_fn: Activation function\n",
    "    :param ortho_init: Whether to use or not orthogonal initialization\n",
    "    :param use_sde: Whether to use State Dependent Exploration or not\n",
    "    :param log_std_init: Initial value for the log standard deviation\n",
    "    :param full_std: Whether to use (n_features x n_actions) parameters\n",
    "        for the std instead of only (n_features,) when using gSDE\n",
    "    :param sde_net_arch: Network architecture for extracting features\n",
    "        when using gSDE. If None, the latent features from the policy will be used.\n",
    "        Pass an empty list to use the states as features.\n",
    "    :param use_expln: Use ``expln()`` function instead of ``exp()`` to ensure\n",
    "        a positive standard deviation (cf paper). It allows to keep variance\n",
    "        above zero and prevent it from growing too fast. In practice, ``exp()`` is usually enough.\n",
    "    :param squash_output: Whether to squash the output using a tanh function,\n",
    "        this allows to ensure boundaries when using gSDE.\n",
    "    :param features_extractor_class: Features extractor to use.\n",
    "    :param features_extractor_kwargs: Keyword arguments\n",
    "        to pass to the features extractor.\n",
    "    :param normalize_images: Whether to normalize images or not,\n",
    "         dividing by 255.0 (True by default)\n",
    "    :param optimizer_class: The optimizer to use,\n",
    "        ``th.optim.Adam`` by default\n",
    "    :param optimizer_kwargs: Additional keyword arguments,\n",
    "        excluding the learning rate, to pass to the optimizer\n",
    "    \"\"\"\n",
    "\n",
    "    def __init__(\n",
    "        self,\n",
    "        observation_space: gym.spaces.Space,\n",
    "        action_space: gym.spaces.Space,\n",
    "        lr_schedule: Schedule,\n",
    "        net_arch: Optional[List[Union[int, Dict[str, List[int]]]]] = None,\n",
    "        activation_fn: Type[nn.Module] = nn.Tanh,\n",
    "        ortho_init: bool = False,\n",
    "        use_sde: bool = False,\n",
    "        log_std_init: float = 0.0,\n",
    "        full_std: bool = True,\n",
    "        sde_net_arch: Optional[List[int]] = None,\n",
    "        use_expln: bool = False,\n",
    "        squash_output: bool = False,\n",
    "        features_extractor_class: Type[BaseFeaturesExtractor] = FlattenExtractor,\n",
    "        features_extractor_kwargs: Optional[Dict[str, Any]] = None,\n",
    "        normalize_images: bool = True,\n",
    "        optimizer_class: Type[th.optim.Optimizer] = th.optim.Adam,\n",
    "        optimizer_kwargs: Optional[Dict[str, Any]] = None,\n",
    "    ):\n",
    "\n",
    "        if optimizer_kwargs is None:\n",
    "            optimizer_kwargs = {}\n",
    "            # Small values to avoid NaN in Adam optimizer\n",
    "            if optimizer_class == th.optim.Adam:\n",
    "                optimizer_kwargs[\"eps\"] = 1e-5\n",
    "\n",
    "        super().__init__(\n",
    "            observation_space,\n",
    "            action_space,\n",
    "            features_extractor_class,\n",
    "            features_extractor_kwargs,\n",
    "            optimizer_class=optimizer_class,\n",
    "            optimizer_kwargs=optimizer_kwargs,\n",
    "            squash_output=squash_output,\n",
    "        )\n",
    "\n",
    "        # Default network architecture, from stable-baselines\n",
    "        if net_arch is None:\n",
    "            if features_extractor_class == NatureCNN:\n",
    "                net_arch = []\n",
    "            else:\n",
    "                net_arch = [dict(pi=[64, 64], vf=[64, 64])]\n",
    "\n",
    "        self.net_arch = net_arch\n",
    "        self.activation_fn = activation_fn\n",
    "        self.ortho_init = ortho_init\n",
    "\n",
    "        self.features_extractor = features_extractor_class(self.observation_space, **self.features_extractor_kwargs)\n",
    "        self.features_dim = self.features_extractor.features_dim\n",
    "\n",
    "        self.normalize_images = normalize_images\n",
    "        self.log_std_init = log_std_init\n",
    "        dist_kwargs = None\n",
    "        # Keyword arguments for gSDE distribution\n",
    "        if use_sde:\n",
    "            dist_kwargs = {\n",
    "                \"full_std\": full_std,\n",
    "                \"squash_output\": squash_output,\n",
    "                \"use_expln\": use_expln,\n",
    "                \"learn_features\": False,\n",
    "            }\n",
    "\n",
    "        if sde_net_arch is not None:\n",
    "            warnings.warn(\"sde_net_arch is deprecated and will be removed in SB3 v2.4.0.\", DeprecationWarning)\n",
    "        self.use_sde = use_sde\n",
    "        self.dist_kwargs = dist_kwargs\n",
    "\n",
    "        # Action distribution\n",
    "        self.action_dist = make_proba_distribution(action_space, use_sde=use_sde, dist_kwargs=dist_kwargs)\n",
    "        self._build(lr_schedule)\n",
    "  \n",
    "\n",
    "    def _get_constructor_parameters(self) -> Dict[str, Any]:\n",
    "        data = super()._get_constructor_parameters()\n",
    "\n",
    "        default_none_kwargs = self.dist_kwargs or collections.defaultdict(lambda: None)\n",
    "\n",
    "        data.update(\n",
    "            dict(\n",
    "                net_arch=self.net_arch,\n",
    "                activation_fn=self.activation_fn,\n",
    "                use_sde=self.use_sde,\n",
    "                log_std_init=self.log_std_init,\n",
    "                squash_output=default_none_kwargs[\"squash_output\"],\n",
    "                full_std=default_none_kwargs[\"full_std\"],\n",
    "                use_expln=default_none_kwargs[\"use_expln\"],\n",
    "                lr_schedule=self._dummy_schedule,  # dummy lr schedule, not needed for loading policy alone\n",
    "                ortho_init=self.ortho_init,\n",
    "                optimizer_class=self.optimizer_class,\n",
    "                optimizer_kwargs=self.optimizer_kwargs,\n",
    "                features_extractor_class=self.features_extractor_class,\n",
    "                features_extractor_kwargs=self.features_extractor_kwargs,\n",
    "            )\n",
    "        )\n",
    "        return data\n",
    "\n",
    "    def reset_noise(self, n_envs: int = 1) -> None:\n",
    "        \"\"\"\n",
    "        Sample new weights for the exploration matrix.\n",
    "\n",
    "        :param n_envs:\n",
    "        \"\"\"\n",
    "        assert isinstance(self.action_dist, StateDependentNoiseDistribution), \"reset_noise() is only available when using gSDE\"\n",
    "        self.action_dist.sample_weights(self.log_std, batch_size=n_envs)\n",
    "\n",
    "\n",
    "    def _build_mlp_extractor(self) -> None:\n",
    "        \"\"\"\n",
    "        Create the policy and value networks.\n",
    "        Part of the layers can be shared.\n",
    "        \"\"\"\n",
    "        # Note: If net_arch is None and some features extractor is used,\n",
    "        #       net_arch here is an empty list and mlp_extractor does not\n",
    "        #       really contain any layers (acts like an identity module).\n",
    "        self.mlp_extractor = MlpExtractor(\n",
    "            self.features_dim,\n",
    "            net_arch=self.net_arch,\n",
    "            activation_fn=self.activation_fn,\n",
    "            device=self.device,\n",
    "        )\n",
    "\n",
    "    def _build(self, lr_schedule: Schedule) -> None:\n",
    "\n",
    "        \"\"\"\n",
    "        Create the networks and the optimizer.\n",
    "\n",
    "        :param lr_schedule: Learning rate schedule\n",
    "            lr_schedule(1) is the initial learning rate\n",
    "        \"\"\"\n",
    " \n",
    "        self._build_mlp_extractor()\n",
    "        latent_dim_pi = self.mlp_extractor.latent_dim_pi\n",
    "\n",
    "        if isinstance(self.action_dist, DiagGaussianDistribution):\n",
    "            self.action_net, self.log_std = self.action_dist.proba_distribution_net(\n",
    "                latent_dim=latent_dim_pi, log_std_init=self.log_std_init, bias=False\n",
    "            )\n",
    "        elif isinstance(self.action_dist, StateDependentNoiseDistribution):\n",
    "            self.action_net, self.log_std = self.action_dist.proba_distribution_net(\n",
    "                latent_dim=latent_dim_pi, latent_sde_dim=latent_dim_pi, log_std_init=self.log_std_init, bias=False\n",
    "            )\n",
    "        elif isinstance(self.action_dist, (CategoricalDistribution, MultiCategoricalDistribution, BernoulliDistribution)):\n",
    "            self.action_net = self.action_dist.proba_distribution_net(latent_dim=latent_dim_pi)\n",
    "        else:\n",
    "            raise NotImplementedError(f\"Unsupported distribution '{self.action_dist}'.\")\n",
    "\n",
    "        self.value_net = nn.Linear(self.mlp_extractor.latent_dim_vf, 1)\n",
    "        # Init weights: use orthogonal initialization\n",
    "        # with small initial weight for the output\n",
    "        if self.ortho_init:\n",
    "            # TODO: check for features_extractor\n",
    "            # Values from stable-baselines.\n",
    "            # features_extractor/mlp values are\n",
    "            # originally from openai/baselines (default gains/init_scales).\n",
    "            module_gains = {\n",
    "                self.features_extractor: np.sqrt(2),\n",
    "                self.mlp_extractor: np.sqrt(2),\n",
    "                self.action_net: 0.01,\n",
    "                self.value_net: 1,\n",
    "            }\n",
    "            for module, gain in module_gains.items():\n",
    "                module.apply(partial(self.init_weights, gain=gain))\n",
    "        # Setup optimizer with initial learning rate\n",
    "        self.optimizer = self.optimizer_class(self.parameters(), lr=lr_schedule(1), **self.optimizer_kwargs)\n",
    "\n",
    "    def forward(self, obs: th.Tensor, deterministic: bool = False) -> Tuple[th.Tensor, th.Tensor, th.Tensor]:\n",
    "        \"\"\"\n",
    "        Forward pass in all the networks (actor and critic)\n",
    "\n",
    "        :param obs: Observation\n",
    "        :param deterministic: Whether to sample or use deterministic actions\n",
    "        :return: action, value and log probability of the action\n",
    "        \"\"\"\n",
    "        # Preprocess the observation if needed\n",
    "        features = self.extract_features(obs)\n",
    "        latent_pi, latent_vf = self.mlp_extractor(features)\n",
    "        # Evaluate the values for the given observations\n",
    "        values = self.value_net(latent_vf)\n",
    "        distribution = self._get_action_dist_from_latent(latent_pi)\n",
    "        actions = distribution.get_actions(deterministic=deterministic)\n",
    "        log_prob = distribution.log_prob(actions)\n",
    "        return actions, values, log_prob\n",
    "\n",
    "\n",
    "    def _get_action_dist_from_latent(self, latent_pi: th.Tensor) -> Distribution:\n",
    "        \"\"\"\n",
    "        Retrieve action distribution given the latent codes.\n",
    "\n",
    "        :param latent_pi: Latent code for the actor\n",
    "        :return: Action distribution\n",
    "        \"\"\"\n",
    "        mean_actions = self.action_net(latent_pi)\n",
    "\n",
    "        if isinstance(self.action_dist, DiagGaussianDistribution):\n",
    "            return self.action_dist.proba_distribution(mean_actions, self.log_std)\n",
    "        elif isinstance(self.action_dist, CategoricalDistribution):\n",
    "            # Here mean_actions are the logits before the softmax\n",
    "            return self.action_dist.proba_distribution(action_logits=mean_actions)\n",
    "        elif isinstance(self.action_dist, MultiCategoricalDistribution):\n",
    "            # Here mean_actions are the flattened logits\n",
    "            return self.action_dist.proba_distribution(action_logits=mean_actions)\n",
    "        elif isinstance(self.action_dist, BernoulliDistribution):\n",
    "            # Here mean_actions are the logits (before rounding to get the binary actions)\n",
    "            return self.action_dist.proba_distribution(action_logits=mean_actions)\n",
    "        elif isinstance(self.action_dist, StateDependentNoiseDistribution):\n",
    "            return self.action_dist.proba_distribution(mean_actions, self.log_std, latent_pi)\n",
    "        else:\n",
    "            raise ValueError(\"Invalid action distribution\")\n",
    "\n",
    "    def _predict(self, observation: th.Tensor, deterministic: bool = False) -> th.Tensor:\n",
    "        \"\"\"\n",
    "        Get the action according to the policy for a given observation.\n",
    "\n",
    "        :param observation:\n",
    "        :param deterministic: Whether to use stochastic or deterministic actions\n",
    "        :return: Taken action according to the policy\n",
    "        \"\"\"\n",
    "        return self.get_distribution(observation).get_actions(deterministic=deterministic)\n",
    "\n",
    "    def evaluate_actions(self, obs: th.Tensor, actions: th.Tensor) -> Tuple[th.Tensor, th.Tensor, th.Tensor]:\n",
    "        \"\"\"\n",
    "        Evaluate actions according to the current policy,\n",
    "        given the observations.\n",
    "\n",
    "        :param obs:\n",
    "        :param actions:\n",
    "        :return: estimated value, log likelihood of taking those actions\n",
    "            and entropy of the action distribution.\n",
    "        \"\"\"\n",
    "        # Preprocess the observation if needed\n",
    "        features = self.extract_features(obs)\n",
    "        latent_pi, latent_vf = self.mlp_extractor(features)\n",
    "        distribution = self._get_action_dist_from_latent(latent_pi)\n",
    "        log_prob = distribution.log_prob(actions)\n",
    "        values = self.value_net(latent_vf)\n",
    "        return values, log_prob, distribution.entropy()\n",
    "\n",
    "\n",
    "    def get_distribution(self, obs: th.Tensor) -> Distribution:\n",
    "        \"\"\"\n",
    "        Get the current policy distribution given the observations.\n",
    "\n",
    "        :param obs:\n",
    "        :return: the action distribution.\n",
    "        \"\"\"\n",
    "        features = self.extract_features(obs)\n",
    "        latent_pi = self.mlp_extractor.forward_actor(features)\n",
    "        return self._get_action_dist_from_latent(latent_pi)\n",
    "\n",
    "\n",
    "    def predict_values(self, obs: th.Tensor) -> th.Tensor:\n",
    "        \"\"\"\n",
    "        Get the estimated values according to the current policy given the observations.\n",
    "\n",
    "        :param obs:\n",
    "        :return: the estimated values.\n",
    "        \"\"\"\n",
    "        features = self.extract_features(obs)\n",
    "        latent_vf = self.mlp_extractor.forward_critic(features)\n",
    "        return self.value_net(latent_vf)"
   ]
  },
  {
   "cell_type": "code",
   "execution_count": 191,
   "metadata": {
    "executionInfo": {
     "elapsed": 5,
     "status": "ok",
     "timestamp": 1651084832987,
     "user": {
      "displayName": "Binwei Yan",
      "userId": "06349322039835195578"
     },
     "user_tz": 240
    },
    "id": "s5gRkDxKGa6F"
   },
   "outputs": [],
   "source": [
    "class AdaptActorCriticPolicy(ActorCriticPolicy):\n",
    "\n",
    "    def __init__(self,build_network_fn, *args, **kwargs):\n",
    "        self.build_network_fn = build_network_fn\n",
    "\n",
    "        super().__init__(*args, **kwargs)\n",
    "        \n",
    "\n",
    "    def _build_mlp_extractor(self):\n",
    "        self.mlp_extractor = self.build_network_fn()\n",
    "\n"
   ]
  },
  {
   "cell_type": "code",
   "execution_count": 192,
   "metadata": {
    "executionInfo": {
     "elapsed": 1414,
     "status": "ok",
     "timestamp": 1651084834397,
     "user": {
      "displayName": "Binwei Yan",
      "userId": "06349322039835195578"
     },
     "user_tz": 240
    },
    "id": "fxMSI6nMEioA"
   },
   "outputs": [],
   "source": [
    "import torch\n",
    "import torch.nn as nn\n",
    "#from envs.AdaptEnv import AdaptEnv\n",
    "from models.GPT2ActorCriticNetwork import GPT2ActorCriticNetwork\n",
    "#from models.AdaptActorCriticPolicy import AdaptActorCriticPolicy\n",
    "\n",
    "class GPT2ActorCriticPolicy(AdaptActorCriticPolicy):\n",
    "\n",
    "    def __init__(self, *args, **kwargs):\n",
    "        policy_hfid = kwargs.pop('policy_hfid', 'gpt2')\n",
    "        value_hfid = kwargs.pop('value_hfid', 'gpt2')\n",
    "        super().__init__(lambda: GPT2ActorCriticNetwork(policy_hfid, value_hfid, kwargs.get('device', 'cuda:0')),*args, **kwargs)\n",
    "\n"
   ]
  },
  {
   "cell_type": "code",
   "execution_count": 193,
   "metadata": {
    "colab": {
     "base_uri": "https://localhost:8080/"
    },
    "executionInfo": {
     "elapsed": 19343,
     "status": "ok",
     "timestamp": 1651084853738,
     "user": {
      "displayName": "Binwei Yan",
      "userId": "06349322039835195578"
     },
     "user_tz": 240
    },
    "id": "E0C40brc99bo",
    "outputId": "fb79d522-f93b-497b-f76e-c935df027711"
   },
   "outputs": [
    {
     "name": "stderr",
     "output_type": "stream",
     "text": [
      "Special tokens have been added in the vocabulary, make sure the associated word embeddings are fine-tuned or trained.\n",
      "Special tokens have been added in the vocabulary, make sure the associated word embeddings are fine-tuned or trained.\n"
     ]
    }
   ],
   "source": [
    "from envs.AdaptEnv import AdaptEnv\n",
    "from transformers import GPT2Tokenizer, GPT2LMHeadModel\n",
    "from models.GPT2RewardModel import GPT2RewardModel\n",
    "# from stable_baselines3 import PPO, A2C\n",
    "#from models.GPT2ActorCriticPolicy import GPT2ActorCriticPolicy\n",
    "\n",
    "#device = 'cpu'\n",
    "device = 'cuda:0'\n",
    "\n",
    "tokenizer = GPT2Tokenizer.from_pretrained('gpt2', pad_token='<|pad|>', device=device)\n",
    "reward_model = GPT2RewardModel(device=device)\n",
    "env = AdaptEnv('This is a joke.', 'Not funny.', 50, reward_model , tokenizer, tokenizer.eos_token_id, device='cpu')\n",
    "#model = PPO(GPT2ActorCriticPolicy, env, device=device, verbose=2)\n",
    "\n",
    "\n"
   ]
  },
  {
   "cell_type": "code",
   "execution_count": 194,
   "metadata": {
    "colab": {
     "base_uri": "https://localhost:8080/"
    },
    "executionInfo": {
     "elapsed": 28390,
     "status": "ok",
     "timestamp": 1651084882123,
     "user": {
      "displayName": "Binwei Yan",
      "userId": "06349322039835195578"
     },
     "user_tz": 240
    },
    "id": "PxKWR3BjA6yM",
    "outputId": "9e306438-aaa7-4a02-c30b-f41b2d891bca"
   },
   "outputs": [
    {
     "name": "stdout",
     "output_type": "stream",
     "text": [
      "Using cuda:0 device\n",
      "Wrapping the env with a `Monitor` wrapper\n",
      "Wrapping the env in a DummyVecEnv.\n"
     ]
    },
    {
     "name": "stderr",
     "output_type": "stream",
     "text": [
      "Special tokens have been added in the vocabulary, make sure the associated word embeddings are fine-tuned or trained.\n"
     ]
    }
   ],
   "source": [
    "model = A2C(GPT2ActorCriticPolicy, env, device=device, verbose=2)\n",
    "gpt2head = GPT2LMHeadModel.from_pretrained('gpt2').to(device).lm_head"
   ]
  },
  {
   "cell_type": "code",
   "execution_count": 195,
   "metadata": {
    "colab": {
     "base_uri": "https://localhost:8080/"
    },
    "executionInfo": {
     "elapsed": 28390,
     "status": "ok",
     "timestamp": 1651084882123,
     "user": {
      "displayName": "Binwei Yan",
      "userId": "06349322039835195578"
     },
     "user_tz": 240
    },
    "id": "PxKWR3BjA6yM",
    "outputId": "9e306438-aaa7-4a02-c30b-f41b2d891bca"
   },
   "outputs": [],
   "source": [
    "# gpt2_params = next(gpt2head.parameters())\n",
    "# head = nn.Linear(*gpt2_params.shape[::-1])\n",
    "\n",
    "# with torch.no_grad():\n",
    "#     head.weight[:,:] = gpt2head.weight[:,:]\n",
    "    \n",
    "# with torch.no_grad():\n",
    "#     head.bias.fill_(0.)\n",
    "    # or\n",
    "#     head.bias = nn.Parameter(torch.randn(1))\n",
    "model.policy._modules['action_net'] = GPT2LMHeadModel.from_pretrained('gpt2').to(device).lm_head\n",
    "\n",
    "# model.policy._modules['action_net'].bias = nn.Parameter(0).to(device)\n",
    "\n",
    "\n",
    "# class ActionBias(nn.Module):\n",
    "#     def __init__(self):\n",
    "#         super().__init__()\n",
    "        \n",
    "#     def forward(self, x):\n",
    "#         return nn.Parameter(torch.Tensor([[0]]), requires_grad=False)\n",
    "    \n",
    "# model.policy._modules['action_net.bias'] = ActionBias()"
   ]
  },
  {
   "cell_type": "code",
   "execution_count": 199,
   "metadata": {
    "colab": {
     "base_uri": "https://localhost:8080/"
    },
    "executionInfo": {
     "elapsed": 28390,
     "status": "ok",
     "timestamp": 1651084882123,
     "user": {
      "displayName": "Binwei Yan",
      "userId": "06349322039835195578"
     },
     "user_tz": 240
    },
    "id": "PxKWR3BjA6yM",
    "outputId": "9e306438-aaa7-4a02-c30b-f41b2d891bca"
   },
   "outputs": [
    {
     "ename": "UnboundLocalError",
     "evalue": "local variable 'state_c' referenced before assignment",
     "output_type": "error",
     "traceback": [
      "\u001b[0;31m---------------------------------------------------------------------------\u001b[0m",
      "\u001b[0;31mUnboundLocalError\u001b[0m                         Traceback (most recent call last)",
      "\u001b[0;32m<ipython-input-199-bbabc9180efa>\u001b[0m in \u001b[0;36m<module>\u001b[0;34m\u001b[0m\n\u001b[0;32m----> 1\u001b[0;31m \u001b[0mmodel\u001b[0m\u001b[0;34m.\u001b[0m\u001b[0mlearn\u001b[0m\u001b[0;34m(\u001b[0m\u001b[0;36m50\u001b[0m\u001b[0;34m)\u001b[0m\u001b[0;34m\u001b[0m\u001b[0;34m\u001b[0m\u001b[0m\n\u001b[0m",
      "\u001b[0;32m/om2/user/rogerjin/conda/ganoli/lib/python3.7/site-packages/stable_baselines3/a2c/a2c.py\u001b[0m in \u001b[0;36mlearn\u001b[0;34m(self, total_timesteps, callback, log_interval, eval_env, eval_freq, n_eval_episodes, tb_log_name, eval_log_path, reset_num_timesteps)\u001b[0m\n\u001b[1;32m    198\u001b[0m             \u001b[0mtb_log_name\u001b[0m\u001b[0;34m=\u001b[0m\u001b[0mtb_log_name\u001b[0m\u001b[0;34m,\u001b[0m\u001b[0;34m\u001b[0m\u001b[0;34m\u001b[0m\u001b[0m\n\u001b[1;32m    199\u001b[0m             \u001b[0meval_log_path\u001b[0m\u001b[0;34m=\u001b[0m\u001b[0meval_log_path\u001b[0m\u001b[0;34m,\u001b[0m\u001b[0;34m\u001b[0m\u001b[0;34m\u001b[0m\u001b[0m\n\u001b[0;32m--> 200\u001b[0;31m             \u001b[0mreset_num_timesteps\u001b[0m\u001b[0;34m=\u001b[0m\u001b[0mreset_num_timesteps\u001b[0m\u001b[0;34m,\u001b[0m\u001b[0;34m\u001b[0m\u001b[0;34m\u001b[0m\u001b[0m\n\u001b[0m\u001b[1;32m    201\u001b[0m         )\n",
      "\u001b[0;32m/om2/user/rogerjin/conda/ganoli/lib/python3.7/site-packages/stable_baselines3/common/on_policy_algorithm.py\u001b[0m in \u001b[0;36mlearn\u001b[0;34m(self, total_timesteps, callback, log_interval, eval_env, eval_freq, n_eval_episodes, tb_log_name, eval_log_path, reset_num_timesteps)\u001b[0m\n\u001b[1;32m    248\u001b[0m         \u001b[0;32mwhile\u001b[0m \u001b[0mself\u001b[0m\u001b[0;34m.\u001b[0m\u001b[0mnum_timesteps\u001b[0m \u001b[0;34m<\u001b[0m \u001b[0mtotal_timesteps\u001b[0m\u001b[0;34m:\u001b[0m\u001b[0;34m\u001b[0m\u001b[0;34m\u001b[0m\u001b[0m\n\u001b[1;32m    249\u001b[0m \u001b[0;34m\u001b[0m\u001b[0m\n\u001b[0;32m--> 250\u001b[0;31m             \u001b[0mcontinue_training\u001b[0m \u001b[0;34m=\u001b[0m \u001b[0mself\u001b[0m\u001b[0;34m.\u001b[0m\u001b[0mcollect_rollouts\u001b[0m\u001b[0;34m(\u001b[0m\u001b[0mself\u001b[0m\u001b[0;34m.\u001b[0m\u001b[0menv\u001b[0m\u001b[0;34m,\u001b[0m \u001b[0mcallback\u001b[0m\u001b[0;34m,\u001b[0m \u001b[0mself\u001b[0m\u001b[0;34m.\u001b[0m\u001b[0mrollout_buffer\u001b[0m\u001b[0;34m,\u001b[0m \u001b[0mn_rollout_steps\u001b[0m\u001b[0;34m=\u001b[0m\u001b[0mself\u001b[0m\u001b[0;34m.\u001b[0m\u001b[0mn_steps\u001b[0m\u001b[0;34m)\u001b[0m\u001b[0;34m\u001b[0m\u001b[0;34m\u001b[0m\u001b[0m\n\u001b[0m\u001b[1;32m    251\u001b[0m \u001b[0;34m\u001b[0m\u001b[0m\n\u001b[1;32m    252\u001b[0m             \u001b[0;32mif\u001b[0m \u001b[0mcontinue_training\u001b[0m \u001b[0;32mis\u001b[0m \u001b[0;32mFalse\u001b[0m\u001b[0;34m:\u001b[0m\u001b[0;34m\u001b[0m\u001b[0;34m\u001b[0m\u001b[0m\n",
      "\u001b[0;32m/om2/user/rogerjin/conda/ganoli/lib/python3.7/site-packages/stable_baselines3/common/on_policy_algorithm.py\u001b[0m in \u001b[0;36mcollect_rollouts\u001b[0;34m(self, env, callback, rollout_buffer, n_rollout_steps)\u001b[0m\n\u001b[1;32m    167\u001b[0m                 \u001b[0;31m# Convert to pytorch tensor or to TensorDict\u001b[0m\u001b[0;34m\u001b[0m\u001b[0;34m\u001b[0m\u001b[0;34m\u001b[0m\u001b[0m\n\u001b[1;32m    168\u001b[0m                 \u001b[0mobs_tensor\u001b[0m \u001b[0;34m=\u001b[0m \u001b[0mobs_as_tensor\u001b[0m\u001b[0;34m(\u001b[0m\u001b[0mself\u001b[0m\u001b[0;34m.\u001b[0m\u001b[0m_last_obs\u001b[0m\u001b[0;34m,\u001b[0m \u001b[0mself\u001b[0m\u001b[0;34m.\u001b[0m\u001b[0mdevice\u001b[0m\u001b[0;34m)\u001b[0m\u001b[0;34m\u001b[0m\u001b[0;34m\u001b[0m\u001b[0m\n\u001b[0;32m--> 169\u001b[0;31m                 \u001b[0mactions\u001b[0m\u001b[0;34m,\u001b[0m \u001b[0mvalues\u001b[0m\u001b[0;34m,\u001b[0m \u001b[0mlog_probs\u001b[0m \u001b[0;34m=\u001b[0m \u001b[0mself\u001b[0m\u001b[0;34m.\u001b[0m\u001b[0mpolicy\u001b[0m\u001b[0;34m(\u001b[0m\u001b[0mobs_tensor\u001b[0m\u001b[0;34m)\u001b[0m\u001b[0;34m\u001b[0m\u001b[0;34m\u001b[0m\u001b[0m\n\u001b[0m\u001b[1;32m    170\u001b[0m             \u001b[0mactions\u001b[0m \u001b[0;34m=\u001b[0m \u001b[0mactions\u001b[0m\u001b[0;34m.\u001b[0m\u001b[0mcpu\u001b[0m\u001b[0;34m(\u001b[0m\u001b[0;34m)\u001b[0m\u001b[0;34m.\u001b[0m\u001b[0mnumpy\u001b[0m\u001b[0;34m(\u001b[0m\u001b[0;34m)\u001b[0m\u001b[0;34m\u001b[0m\u001b[0;34m\u001b[0m\u001b[0m\n\u001b[1;32m    171\u001b[0m \u001b[0;34m\u001b[0m\u001b[0m\n",
      "\u001b[0;32m/om2/user/rogerjin/conda/ganoli/lib/python3.7/site-packages/torch/nn/modules/module.py\u001b[0m in \u001b[0;36m_call_impl\u001b[0;34m(self, *input, **kwargs)\u001b[0m\n\u001b[1;32m   1100\u001b[0m         if not (self._backward_hooks or self._forward_hooks or self._forward_pre_hooks or _global_backward_hooks\n\u001b[1;32m   1101\u001b[0m                 or _global_forward_hooks or _global_forward_pre_hooks):\n\u001b[0;32m-> 1102\u001b[0;31m             \u001b[0;32mreturn\u001b[0m \u001b[0mforward_call\u001b[0m\u001b[0;34m(\u001b[0m\u001b[0;34m*\u001b[0m\u001b[0minput\u001b[0m\u001b[0;34m,\u001b[0m \u001b[0;34m**\u001b[0m\u001b[0mkwargs\u001b[0m\u001b[0;34m)\u001b[0m\u001b[0;34m\u001b[0m\u001b[0;34m\u001b[0m\u001b[0m\n\u001b[0m\u001b[1;32m   1103\u001b[0m         \u001b[0;31m# Do not call functions when jit is used\u001b[0m\u001b[0;34m\u001b[0m\u001b[0;34m\u001b[0m\u001b[0;34m\u001b[0m\u001b[0m\n\u001b[1;32m   1104\u001b[0m         \u001b[0mfull_backward_hooks\u001b[0m\u001b[0;34m,\u001b[0m \u001b[0mnon_full_backward_hooks\u001b[0m \u001b[0;34m=\u001b[0m \u001b[0;34m[\u001b[0m\u001b[0;34m]\u001b[0m\u001b[0;34m,\u001b[0m \u001b[0;34m[\u001b[0m\u001b[0;34m]\u001b[0m\u001b[0;34m\u001b[0m\u001b[0;34m\u001b[0m\u001b[0m\n",
      "\u001b[0;32m<ipython-input-190-eb2ccf706fa0>\u001b[0m in \u001b[0;36mforward\u001b[0;34m(self, obs, deterministic)\u001b[0m\n\u001b[1;32m    581\u001b[0m         \u001b[0;31m# Preprocess the observation if needed\u001b[0m\u001b[0;34m\u001b[0m\u001b[0;34m\u001b[0m\u001b[0;34m\u001b[0m\u001b[0m\n\u001b[1;32m    582\u001b[0m         \u001b[0mfeatures\u001b[0m \u001b[0;34m=\u001b[0m \u001b[0mself\u001b[0m\u001b[0;34m.\u001b[0m\u001b[0mextract_features\u001b[0m\u001b[0;34m(\u001b[0m\u001b[0mobs\u001b[0m\u001b[0;34m)\u001b[0m\u001b[0;34m\u001b[0m\u001b[0;34m\u001b[0m\u001b[0m\n\u001b[0;32m--> 583\u001b[0;31m         \u001b[0mlatent_pi\u001b[0m\u001b[0;34m,\u001b[0m \u001b[0mlatent_vf\u001b[0m \u001b[0;34m=\u001b[0m \u001b[0mself\u001b[0m\u001b[0;34m.\u001b[0m\u001b[0mmlp_extractor\u001b[0m\u001b[0;34m(\u001b[0m\u001b[0mfeatures\u001b[0m\u001b[0;34m)\u001b[0m\u001b[0;34m\u001b[0m\u001b[0;34m\u001b[0m\u001b[0m\n\u001b[0m\u001b[1;32m    584\u001b[0m         \u001b[0;31m# Evaluate the values for the given observations\u001b[0m\u001b[0;34m\u001b[0m\u001b[0;34m\u001b[0m\u001b[0;34m\u001b[0m\u001b[0m\n\u001b[1;32m    585\u001b[0m         \u001b[0mvalues\u001b[0m \u001b[0;34m=\u001b[0m \u001b[0mself\u001b[0m\u001b[0;34m.\u001b[0m\u001b[0mvalue_net\u001b[0m\u001b[0;34m(\u001b[0m\u001b[0mlatent_vf\u001b[0m\u001b[0;34m)\u001b[0m\u001b[0;34m\u001b[0m\u001b[0;34m\u001b[0m\u001b[0m\n",
      "\u001b[0;32m/om2/user/rogerjin/conda/ganoli/lib/python3.7/site-packages/torch/nn/modules/module.py\u001b[0m in \u001b[0;36m_call_impl\u001b[0;34m(self, *input, **kwargs)\u001b[0m\n\u001b[1;32m   1100\u001b[0m         if not (self._backward_hooks or self._forward_hooks or self._forward_pre_hooks or _global_backward_hooks\n\u001b[1;32m   1101\u001b[0m                 or _global_forward_hooks or _global_forward_pre_hooks):\n\u001b[0;32m-> 1102\u001b[0;31m             \u001b[0;32mreturn\u001b[0m \u001b[0mforward_call\u001b[0m\u001b[0;34m(\u001b[0m\u001b[0;34m*\u001b[0m\u001b[0minput\u001b[0m\u001b[0;34m,\u001b[0m \u001b[0;34m**\u001b[0m\u001b[0mkwargs\u001b[0m\u001b[0;34m)\u001b[0m\u001b[0;34m\u001b[0m\u001b[0;34m\u001b[0m\u001b[0m\n\u001b[0m\u001b[1;32m   1103\u001b[0m         \u001b[0;31m# Do not call functions when jit is used\u001b[0m\u001b[0;34m\u001b[0m\u001b[0;34m\u001b[0m\u001b[0;34m\u001b[0m\u001b[0m\n\u001b[1;32m   1104\u001b[0m         \u001b[0mfull_backward_hooks\u001b[0m\u001b[0;34m,\u001b[0m \u001b[0mnon_full_backward_hooks\u001b[0m \u001b[0;34m=\u001b[0m \u001b[0;34m[\u001b[0m\u001b[0;34m]\u001b[0m\u001b[0;34m,\u001b[0m \u001b[0;34m[\u001b[0m\u001b[0;34m]\u001b[0m\u001b[0;34m\u001b[0m\u001b[0;34m\u001b[0m\u001b[0m\n",
      "\u001b[0;32m/net/vast-storage/scratch/vast/kellislab/rogerjin/6.884/adaPT/models/GPT2ActorCriticNetwork.py\u001b[0m in \u001b[0;36mforward\u001b[0;34m(self, state)\u001b[0m\n\u001b[1;32m     31\u001b[0m           \u001b[0mx\u001b[0m \u001b[0;34m=\u001b[0m \u001b[0;34m(\u001b[0m\u001b[0mstate\u001b[0m\u001b[0;34m[\u001b[0m\u001b[0mi\u001b[0m\u001b[0;34m]\u001b[0m \u001b[0;34m==\u001b[0m \u001b[0mself\u001b[0m\u001b[0;34m.\u001b[0m\u001b[0mtokenizer\u001b[0m\u001b[0;34m.\u001b[0m\u001b[0meos_token_id\u001b[0m\u001b[0;34m+\u001b[0m\u001b[0;36m1\u001b[0m\u001b[0;34m)\u001b[0m\u001b[0;34m.\u001b[0m\u001b[0mnonzero\u001b[0m\u001b[0;34m(\u001b[0m\u001b[0mas_tuple\u001b[0m\u001b[0;34m=\u001b[0m\u001b[0;32mTrue\u001b[0m\u001b[0;34m)\u001b[0m\u001b[0;34m\u001b[0m\u001b[0;34m\u001b[0m\u001b[0m\n\u001b[1;32m     32\u001b[0m           \u001b[0;32mif\u001b[0m \u001b[0mx\u001b[0m\u001b[0;34m[\u001b[0m\u001b[0;36m0\u001b[0m\u001b[0;34m]\u001b[0m\u001b[0;34m.\u001b[0m\u001b[0mshape\u001b[0m\u001b[0;34m[\u001b[0m\u001b[0;36m0\u001b[0m\u001b[0;34m]\u001b[0m \u001b[0;34m!=\u001b[0m \u001b[0;36m0\u001b[0m\u001b[0;34m:\u001b[0m\u001b[0;34m\u001b[0m\u001b[0;34m\u001b[0m\u001b[0m\n\u001b[0;32m---> 33\u001b[0;31m             \u001b[0mstate_c\u001b[0m \u001b[0;34m=\u001b[0m \u001b[0mstate\u001b[0m\u001b[0;34m[\u001b[0m\u001b[0mi\u001b[0m\u001b[0;34m,\u001b[0m\u001b[0;34m:\u001b[0m\u001b[0mx\u001b[0m\u001b[0;34m[\u001b[0m\u001b[0;36m0\u001b[0m\u001b[0;34m]\u001b[0m\u001b[0;34m[\u001b[0m\u001b[0;36m0\u001b[0m\u001b[0;34m]\u001b[0m\u001b[0;34m]\u001b[0m\u001b[0;34m\u001b[0m\u001b[0;34m\u001b[0m\u001b[0m\n\u001b[0m\u001b[1;32m     34\u001b[0m           \u001b[0mstate_c\u001b[0m \u001b[0;34m=\u001b[0m \u001b[0mstate_c\u001b[0m\u001b[0;34m.\u001b[0m\u001b[0munsqueeze\u001b[0m\u001b[0;34m(\u001b[0m\u001b[0;36m0\u001b[0m\u001b[0;34m)\u001b[0m\u001b[0;34m\u001b[0m\u001b[0;34m\u001b[0m\u001b[0m\n\u001b[1;32m     35\u001b[0m           \u001b[0mactor\u001b[0m\u001b[0;34m.\u001b[0m\u001b[0mappend\u001b[0m\u001b[0;34m(\u001b[0m\u001b[0mself\u001b[0m\u001b[0;34m.\u001b[0m\u001b[0mforward_actor\u001b[0m\u001b[0;34m(\u001b[0m\u001b[0mstate_c\u001b[0m\u001b[0;34m)\u001b[0m\u001b[0;34m)\u001b[0m\u001b[0;34m\u001b[0m\u001b[0;34m\u001b[0m\u001b[0m\n",
      "\u001b[0;31mUnboundLocalError\u001b[0m: local variable 'state_c' referenced before assignment"
     ]
    }
   ],
   "source": [
    "model.learn(50)"
   ]
  },
  {
   "cell_type": "code",
   "execution_count": null,
   "metadata": {},
   "outputs": [],
   "source": [
    "model.policy._modules['action_net'].bias = torch.nn.Parameter(torch.Tensor([0]*50257).cuda())\n",
    "model.save('checkpoints/save_test.pt')"
   ]
  },
  {
   "cell_type": "code",
   "execution_count": 189,
   "metadata": {},
   "outputs": [
    {
     "name": "stderr",
     "output_type": "stream",
     "text": [
      "Special tokens have been added in the vocabulary, make sure the associated word embeddings are fine-tuned or trained.\n"
     ]
    },
    {
     "data": {
      "text/plain": [
       "<stable_baselines3.a2c.a2c.A2C at 0x2b7679955a50>"
      ]
     },
     "execution_count": 189,
     "metadata": {},
     "output_type": "execute_result"
    }
   ],
   "source": [
    "model.load('checkpoints/save_test.pt')\n",
    "# torch.load('checkpoints/save_test.pt')"
   ]
  },
  {
   "cell_type": "code",
   "execution_count": 16,
   "metadata": {
    "colab": {
     "base_uri": "https://localhost:8080/"
    },
    "executionInfo": {
     "elapsed": 24,
     "status": "ok",
     "timestamp": 1651084882124,
     "user": {
      "displayName": "Binwei Yan",
      "userId": "06349322039835195578"
     },
     "user_tz": 240
    },
    "id": "GhL3VuWJB_fu",
    "outputId": "bcc3df22-f712-48a9-ddbf-002e4e42a7e3"
   },
   "outputs": [
    {
     "data": {
      "text/plain": [
       "tensor([[1.2120e+03, 3.1800e+02, 2.5700e+02, 9.7070e+03, 1.3000e+01, 5.0257e+04,\n",
       "         5.0257e+04, 5.0257e+04, 5.0257e+04, 5.0257e+04, 5.0257e+04, 5.0257e+04,\n",
       "         5.0257e+04, 5.0257e+04, 5.0257e+04, 5.0257e+04, 5.0257e+04, 5.0257e+04,\n",
       "         5.0257e+04, 5.0257e+04, 5.0257e+04, 5.0257e+04, 5.0257e+04, 5.0257e+04,\n",
       "         5.0257e+04, 5.0257e+04, 5.0257e+04, 5.0257e+04, 5.0257e+04, 5.0257e+04,\n",
       "         5.0257e+04, 5.0257e+04, 5.0257e+04, 5.0257e+04, 5.0257e+04, 5.0257e+04,\n",
       "         5.0257e+04, 5.0257e+04, 5.0257e+04, 5.0257e+04, 5.0257e+04, 5.0257e+04,\n",
       "         5.0257e+04, 5.0257e+04, 5.0257e+04, 5.0257e+04, 5.0257e+04, 5.0257e+04,\n",
       "         5.0257e+04, 5.0257e+04],\n",
       "        [1.2120e+03, 3.1800e+02, 2.5700e+02, 9.7070e+03, 1.3000e+01, 5.0257e+04,\n",
       "         5.0257e+04, 5.0257e+04, 5.0257e+04, 5.0257e+04, 5.0257e+04, 5.0257e+04,\n",
       "         5.0257e+04, 5.0257e+04, 5.0257e+04, 5.0257e+04, 5.0257e+04, 5.0257e+04,\n",
       "         5.0257e+04, 5.0257e+04, 5.0257e+04, 5.0257e+04, 5.0257e+04, 5.0257e+04,\n",
       "         5.0257e+04, 5.0257e+04, 5.0257e+04, 5.0257e+04, 5.0257e+04, 5.0257e+04,\n",
       "         5.0257e+04, 5.0257e+04, 5.0257e+04, 5.0257e+04, 5.0257e+04, 5.0257e+04,\n",
       "         5.0257e+04, 5.0257e+04, 5.0257e+04, 5.0257e+04, 5.0257e+04, 5.0257e+04,\n",
       "         5.0257e+04, 5.0257e+04, 5.0257e+04, 5.0257e+04, 5.0257e+04, 5.0257e+04,\n",
       "         5.0257e+04, 5.0257e+04]])"
      ]
     },
     "execution_count": 16,
     "metadata": {},
     "output_type": "execute_result"
    }
   ],
   "source": [
    "state = torch.Tensor(\n",
    "[[ 1212,   318,   257,  9707,    13, 50257, 50257, 50257, 50257, 50257,\n",
    "         50257, 50257, 50257, 50257, 50257, 50257, 50257, 50257, 50257, 50257,\n",
    "         50257, 50257, 50257, 50257, 50257, 50257, 50257, 50257, 50257, 50257,\n",
    "         50257, 50257, 50257, 50257, 50257, 50257, 50257, 50257, 50257, 50257,\n",
    "         50257, 50257, 50257, 50257, 50257, 50257, 50257, 50257, 50257, 50257]])\n",
    "torch.cat([state,state])"
   ]
  },
  {
   "cell_type": "code",
   "execution_count": 11,
   "metadata": {
    "colab": {
     "base_uri": "https://localhost:8080/",
     "height": 164
    },
    "executionInfo": {
     "elapsed": 24,
     "status": "error",
     "timestamp": 1651084882127,
     "user": {
      "displayName": "Binwei Yan",
      "userId": "06349322039835195578"
     },
     "user_tz": 240
    },
    "id": "JqsbZJRVl3T1",
    "outputId": "1e2fc0db-e012-4841-daad-c9adb21346a3"
   },
   "outputs": [
    {
     "ename": "NameError",
     "evalue": "ignored",
     "output_type": "error",
     "traceback": [
      "\u001b[0;31m---------------------------------------------------------------------------\u001b[0m",
      "\u001b[0;31mNameError\u001b[0m                                 Traceback (most recent call last)",
      "\u001b[0;32m<ipython-input-11-9e3baed8f1d3>\u001b[0m in \u001b[0;36m<module>\u001b[0;34m()\u001b[0m\n\u001b[0;32m----> 1\u001b[0;31m \u001b[0mprint\u001b[0m\u001b[0;34m(\u001b[0m\u001b[0mx\u001b[0m\u001b[0;34m.\u001b[0m\u001b[0mlm\u001b[0m\u001b[0;34m.\u001b[0m\u001b[0mgenerate\u001b[0m\u001b[0;34m)\u001b[0m\u001b[0;34m\u001b[0m\u001b[0;34m\u001b[0m\u001b[0m\n\u001b[0m",
      "\u001b[0;31mNameError\u001b[0m: name 'x' is not defined"
     ]
    }
   ],
   "source": [
    "print(x.lm.generate)"
   ]
  },
  {
   "cell_type": "code",
   "execution_count": null,
   "metadata": {
    "executionInfo": {
     "elapsed": 19,
     "status": "aborted",
     "timestamp": 1651084882124,
     "user": {
      "displayName": "Binwei Yan",
      "userId": "06349322039835195578"
     },
     "user_tz": 240
    },
    "id": "miGZQq-4Aj2f"
   },
   "outputs": [],
   "source": [
    "from stable_baselines3.common.preprocessing import check_for_nested_spaces\n",
    "\n",
    "def obs_space_info(obs_space: gym.spaces.Space) -> Tuple[List[str], Dict[Any, Tuple[int, ...]], Dict[Any, np.dtype]]:\n",
    "    \"\"\"\n",
    "    Get dict-structured information about a gym.Space.\n",
    "\n",
    "    Dict spaces are represented directly by their dict of subspaces.\n",
    "    Tuple spaces are converted into a dict with keys indexing into the tuple.\n",
    "    Unstructured spaces are represented by {None: obs_space}.\n",
    "\n",
    "    :param obs_space: an observation space\n",
    "    :return: A tuple (keys, shapes, dtypes):\n",
    "        keys: a list of dict keys.\n",
    "        shapes: a dict mapping keys to shapes.\n",
    "        dtypes: a dict mapping keys to dtypes.\n",
    "    \"\"\"\n",
    "    check_for_nested_spaces(obs_space)\n",
    "    if isinstance(obs_space, gym.spaces.Dict):\n",
    "        assert isinstance(obs_space.spaces, OrderedDict), \"Dict space must have ordered subspaces\"\n",
    "        subspaces = obs_space.spaces\n",
    "    elif isinstance(obs_space, gym.spaces.Tuple):\n",
    "        subspaces = {i: space for i, space in enumerate(obs_space.spaces)}\n",
    "    else:\n",
    "        assert not hasattr(obs_space, \"spaces\"), f\"Unsupported structured space '{type(obs_space)}'\"\n",
    "        subspaces = {None: obs_space}\n",
    "    keys = []\n",
    "    shapes = {}\n",
    "    dtypes = {}\n",
    "    for key, box in subspaces.items():\n",
    "        keys.append(key)\n",
    "        shapes[key] = box.shape\n",
    "        dtypes[key] = box.dtype\n",
    "    return keys, shapes, dtypes\n"
   ]
  },
  {
   "cell_type": "code",
   "execution_count": null,
   "metadata": {
    "executionInfo": {
     "elapsed": 18,
     "status": "aborted",
     "timestamp": 1651084882124,
     "user": {
      "displayName": "Binwei Yan",
      "userId": "06349322039835195578"
     },
     "user_tz": 240
    },
    "id": "anr4RKc2AoN0"
   },
   "outputs": [],
   "source": [
    "!pip install transformers\n",
    "!pip install stable_baselines3"
   ]
  },
  {
   "cell_type": "code",
   "execution_count": null,
   "metadata": {
    "executionInfo": {
     "elapsed": 19,
     "status": "aborted",
     "timestamp": 1651084882125,
     "user": {
      "displayName": "Binwei Yan",
      "userId": "06349322039835195578"
     },
     "user_tz": 240
    },
    "id": "QRF2-j0M99bs"
   },
   "outputs": [],
   "source": [
    "tokenizer = GPT2Tokenizer.from_pretrained('gpt2', pad_token='<|pad|>', device=device)\n"
   ]
  },
  {
   "cell_type": "code",
   "execution_count": null,
   "metadata": {
    "executionInfo": {
     "elapsed": 19,
     "status": "aborted",
     "timestamp": 1651084882125,
     "user": {
      "displayName": "Binwei Yan",
      "userId": "06349322039835195578"
     },
     "user_tz": 240
    },
    "id": "u3GqqQFS99bu"
   },
   "outputs": [],
   "source": [
    "reward_model = GPT2RewardModel(device=device)\n"
   ]
  },
  {
   "cell_type": "code",
   "execution_count": null,
   "metadata": {
    "executionInfo": {
     "elapsed": 19,
     "status": "aborted",
     "timestamp": 1651084882125,
     "user": {
      "displayName": "Binwei Yan",
      "userId": "06349322039835195578"
     },
     "user_tz": 240
    },
    "id": "AJdDyh8M99bu"
   },
   "outputs": [],
   "source": [
    "env = AdaptEnv('Tell me a joke.', 'Be funnier.', 10, reward_model , tokenizer, tokenizer.eos_token_id, device=device)\n"
   ]
  },
  {
   "cell_type": "code",
   "execution_count": null,
   "metadata": {
    "executionInfo": {
     "elapsed": 20,
     "status": "aborted",
     "timestamp": 1651084882126,
     "user": {
      "displayName": "Binwei Yan",
      "userId": "06349322039835195578"
     },
     "user_tz": 240
    },
    "id": "RLxZrTqT99bv"
   },
   "outputs": [],
   "source": [
    "# model = PPO(GPT2ActorCriticPolicy, env, device=device, verbose=2)\n",
    "from stable_baselines3.common.env_util import make_vec_env\n",
    "env = make_vec_env(\"CartPole-v1\", n_envs=4)\n",
    "model = A2C(\"MlpPolicy\", env, device=device, verbose=2)"
   ]
  },
  {
   "cell_type": "code",
   "execution_count": null,
   "metadata": {
    "executionInfo": {
     "elapsed": 20,
     "status": "aborted",
     "timestamp": 1651084882126,
     "user": {
      "displayName": "Binwei Yan",
      "userId": "06349322039835195578"
     },
     "user_tz": 240
    },
    "id": "kzIeXlP399bv"
   },
   "outputs": [],
   "source": [
    "print('finished initializing model')\n",
    "model.learn(total_timesteps=25)"
   ]
  },
  {
   "cell_type": "code",
   "execution_count": null,
   "metadata": {
    "executionInfo": {
     "elapsed": 21,
     "status": "aborted",
     "timestamp": 1651084882127,
     "user": {
      "displayName": "Binwei Yan",
      "userId": "06349322039835195578"
     },
     "user_tz": 240
    },
    "id": "B5vW0ZfA99bw"
   },
   "outputs": [],
   "source": [
    "class Robot:\n",
    "    count = 0\n",
    "   \n",
    "    def __init__(self, id_):\n",
    "        self.id = id_\n",
    "        Robot.count = self.count + 1\n",
    "        self.owner = None\n",
    "    def purchase(self, user):\n",
    "        self.owner = user\n",
    "        output_string = \"Robot with id \" + self.id + \" purchased by \" + user\n",
    "        print( output_string)\n",
    "    def get_information(self):\n",
    "        print(\"Thiself.iself.robot \" + self.id + \" (one of \" + str( Robot.count) + \")\")\n",
    "        if self.owner is None:\n",
    "            output_string = \"Not yet purchased\"\n",
    "        else:\n",
    "            output_string = \"Owned by \" + self.owner\n",
    "        print( output_string)"
   ]
  },
  {
   "cell_type": "code",
   "execution_count": null,
   "metadata": {
    "executionInfo": {
     "elapsed": 21,
     "status": "aborted",
     "timestamp": 1651084882127,
     "user": {
      "displayName": "Binwei Yan",
      "userId": "06349322039835195578"
     },
     "user_tz": 240
    },
    "id": "Js9BGQym99by"
   },
   "outputs": [],
   "source": [
    "class Foo:\n",
    "    x = 5\n",
    "    def __init__(self):\n",
    "        self.L = []\n",
    "\n",
    "    def add (self):\n",
    "        self.L.append(x)"
   ]
  }
 ],
 "metadata": {
  "accelerator": "GPU",
  "colab": {
   "collapsed_sections": [],
   "machine_shape": "hm",
   "name": "train.ipynb",
   "provenance": []
  },
  "interpreter": {
   "hash": "a36ebea62bf783e6cb55cb3cc2071dddd1094a9b6bc07d2d4eaaef8cd2f67520"
  },
  "kernelspec": {
   "display_name": "huggingface",
   "language": "python",
   "name": "huggingface"
  },
  "language_info": {
   "codemirror_mode": {
    "name": "ipython",
    "version": 3
   },
   "file_extension": ".py",
   "mimetype": "text/x-python",
   "name": "python",
   "nbconvert_exporter": "python",
   "pygments_lexer": "ipython3",
   "version": "3.7.9"
  }
 },
 "nbformat": 4,
 "nbformat_minor": 4
}
