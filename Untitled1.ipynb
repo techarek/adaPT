{
 "cells": [
  {
   "cell_type": "code",
   "execution_count": 5,
   "id": "2a7bbe87-e09f-4171-b0b8-392a409e6b5e",
   "metadata": {},
   "outputs": [],
   "source": [
    "puncs = {\n",
    "    ';': 'semicolon',\n",
    "    '?': 'question',\n",
    "    '!': 'exclam',\n",
    "    '.': 'period'\n",
    "}\n",
    "\n",
    "for punc in puncs:\n",
    "    config = { \n",
    "        'out_type': 'punctuation',\n",
    "        'prompt': '<|endoftext|>',\n",
    "        'feedback': f\"{punc}\",\n",
    "        'negative_feedback': False,\n",
    "        'emotion': f'{puncs[punc]}',\n",
    "        'model_name': 'gpt2-medium',\n",
    "        'algorithm': 'ppo',\n",
    "        'max_seq_len': 35, \n",
    "        'max_steps': 50000,\n",
    "        'lr': 1e-6, # from https://github.com/openai/lm-human-preferences\n",
    "        'n_envs': 40, \n",
    "        'save_freq': 10000,\n",
    "        'gen_freq': 1000,\n",
    "    }\n",
    "    \n",
    "    with open(f'configs/{puncs[punc]}.json', 'w') as fp:\n",
    "        json.dump(config, fp)\n"
   ]
  },
  {
   "cell_type": "code",
   "execution_count": 3,
   "id": "f86365b4-4907-4a99-a788-81584f2d9fc5",
   "metadata": {},
   "outputs": [],
   "source": [
    "import json\n",
    "with open('configs/test.json', 'w') as fp:\n",
    "    json.dump(config, fp)"
   ]
  },
  {
   "cell_type": "code",
   "execution_count": 4,
   "id": "60f74780-7e2a-4ade-a5f8-d24b3b05e3b0",
   "metadata": {},
   "outputs": [
    {
     "data": {
      "text/plain": [
       "{'out_type': 'code',\n",
       " 'prompt': '<|endoftext|>',\n",
       " 'feedback': ';',\n",
       " 'negative_feedback': False,\n",
       " 'emotion': 'semicolon',\n",
       " 'model_name': 'gpt2-medium',\n",
       " 'algorithm': 'ppo',\n",
       " 'max_seq_len': 35,\n",
       " 'max_steps': 50000,\n",
       " 'lr': 1e-06,\n",
       " 'n_envs': 40,\n",
       " 'save_freq': 10000,\n",
       " 'gen_freq': 1000}"
      ]
     },
     "execution_count": 4,
     "metadata": {},
     "output_type": "execute_result"
    }
   ],
   "source": [
    "json.loads(open('configs/test.json').read())"
   ]
  },
  {
   "cell_type": "code",
   "execution_count": 6,
   "id": "51ccdcd7-954e-4943-9754-08dfcc2ed23d",
   "metadata": {},
   "outputs": [
    {
     "data": {
      "text/plain": [
       "2"
      ]
     },
     "execution_count": 6,
     "metadata": {},
     "output_type": "execute_result"
    }
   ],
   "source": [
    "1+1"
   ]
  },
  {
   "cell_type": "code",
   "execution_count": null,
   "id": "84315bef-f994-4730-880a-21bba27f9b56",
   "metadata": {},
   "outputs": [],
   "source": []
  }
 ],
 "metadata": {
  "kernelspec": {
   "display_name": "decrypt",
   "language": "python",
   "name": "decrypt"
  },
  "language_info": {
   "codemirror_mode": {
    "name": "ipython",
    "version": 3
   },
   "file_extension": ".py",
   "mimetype": "text/x-python",
   "name": "python",
   "nbconvert_exporter": "python",
   "pygments_lexer": "ipython3",
   "version": "3.9.12"
  }
 },
 "nbformat": 4,
 "nbformat_minor": 5
}
